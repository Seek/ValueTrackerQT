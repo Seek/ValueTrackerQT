{
 "cells": [
  {
   "cell_type": "code",
   "execution_count": 1,
   "metadata": {
    "collapsed": true
   },
   "outputs": [],
   "source": [
    "from sqlalchemy import Column, Integer, String, ForeignKey\n",
    "from sqlalchemy.orm import relationship, backref\n",
    "\n",
    "from sqlalchemy.ext.associationproxy import association_proxy\n",
    "from sqlalchemy.ext.declarative import declarative_base\n",
    "\n",
    "Base = declarative_base()\n",
    "\n",
    "class User(Base):\n",
    "    __tablename__ = 'user'\n",
    "    id = Column(Integer, primary_key=True)\n",
    "    name = Column(String(64))\n",
    "\n",
    "    # association proxy of \"user_keywords\" collection\n",
    "    # to \"keyword\" attribute\n",
    "    keywords = association_proxy('user_keywords', 'keyword')\n",
    "\n",
    "    def __init__(self, name):\n",
    "        self.name = name\n",
    "\n",
    "class UserKeyword(Base):\n",
    "    __tablename__ = 'user_keyword'\n",
    "    user_id = Column(Integer, ForeignKey('user.id'), primary_key=True)\n",
    "    keyword_id = Column(Integer, ForeignKey('keyword.id'), primary_key=True)\n",
    "    special_key = Column(String(50))\n",
    "\n",
    "    # bidirectional attribute/collection of \"user\"/\"user_keywords\"\n",
    "    user = relationship(User,\n",
    "                backref=backref(\"user_keywords\",\n",
    "                                cascade=\"all, delete-orphan\")\n",
    "            )\n",
    "\n",
    "    # reference to the \"Keyword\" object\n",
    "    keyword = relationship(\"Keyword\")\n",
    "\n",
    "    def __init__(self, keyword=None, user=None, special_key=None):\n",
    "        self.user = user\n",
    "        self.keyword = keyword\n",
    "        self.special_key = special_key\n",
    "\n",
    "class Keyword(Base):\n",
    "    __tablename__ = 'keyword'\n",
    "    id = Column(Integer, primary_key=True)\n",
    "    keyword = Column('keyword', String(64))\n",
    "\n",
    "    def __init__(self, keyword):\n",
    "        self.keyword = keyword\n",
    "\n",
    "    def __repr__(self):\n",
    "        return 'Keyword(%s)' % repr(self.keyword)"
   ]
  },
  {
   "cell_type": "code",
   "execution_count": 2,
   "metadata": {
    "collapsed": false
   },
   "outputs": [
    {
     "name": "stdout",
     "output_type": "stream",
     "text": [
      "[Keyword('new_from_blammo'), Keyword('its_big')]\n"
     ]
    },
    {
     "data": {
      "text/plain": [
       "[Keyword('new_from_blammo'), Keyword('its_big')]"
      ]
     },
     "execution_count": 2,
     "metadata": {},
     "output_type": "execute_result"
    }
   ],
   "source": [
    ">>> user = User('log')\n",
    ">>> for kw in (Keyword('new_from_blammo'), Keyword('its_big')):\n",
    "...     user.keywords.append(kw)\n",
    "...\n",
    ">>> print(user.keywords)\n",
    "[Keyword('new_from_blammo'), Keyword('its_big')]"
   ]
  },
  {
   "cell_type": "code",
   "execution_count": 3,
   "metadata": {
    "collapsed": false
   },
   "outputs": [
    {
     "data": {
      "text/plain": [
       "<__main__.UserKeyword at 0x21de64d1908>"
      ]
     },
     "execution_count": 3,
     "metadata": {},
     "output_type": "execute_result"
    }
   ],
   "source": [
    "UserKeyword(Keyword('its_wood'), user, special_key='my special key')"
   ]
  },
  {
   "cell_type": "code",
   "execution_count": 4,
   "metadata": {
    "collapsed": false
   },
   "outputs": [
    {
     "data": {
      "text/plain": [
       "[Keyword('new_from_blammo'), Keyword('its_big'), Keyword('its_wood')]"
      ]
     },
     "execution_count": 4,
     "metadata": {},
     "output_type": "execute_result"
    }
   ],
   "source": [
    "user.keywords"
   ]
  },
  {
   "cell_type": "code",
   "execution_count": 5,
   "metadata": {
    "collapsed": false
   },
   "outputs": [
    {
     "ename": "AttributeError",
     "evalue": "'Keyword' object has no attribute 'special_key'",
     "output_type": "error",
     "traceback": [
      "\u001b[1;31m---------------------------------------------------------------------------\u001b[0m",
      "\u001b[1;31mAttributeError\u001b[0m                            Traceback (most recent call last)",
      "\u001b[1;32m<ipython-input-5-743e46fd84aa>\u001b[0m in \u001b[0;36m<module>\u001b[1;34m()\u001b[0m\n\u001b[1;32m----> 1\u001b[1;33m \u001b[0muser\u001b[0m\u001b[1;33m.\u001b[0m\u001b[0mkeywords\u001b[0m\u001b[1;33m[\u001b[0m\u001b[1;36m2\u001b[0m\u001b[1;33m]\u001b[0m\u001b[1;33m.\u001b[0m\u001b[0mspecial_key\u001b[0m\u001b[1;33m\u001b[0m\u001b[0m\n\u001b[0m",
      "\u001b[1;31mAttributeError\u001b[0m: 'Keyword' object has no attribute 'special_key'"
     ]
    }
   ],
   "source": [
    "user.keywords[2].special_key"
   ]
  },
  {
   "cell_type": "code",
   "execution_count": null,
   "metadata": {
    "collapsed": true
   },
   "outputs": [],
   "source": []
  }
 ],
 "metadata": {
  "kernelspec": {
   "display_name": "Python 3",
   "language": "python",
   "name": "python3"
  },
  "language_info": {
   "codemirror_mode": {
    "name": "ipython",
    "version": 3
   },
   "file_extension": ".py",
   "mimetype": "text/x-python",
   "name": "python",
   "nbconvert_exporter": "python",
   "pygments_lexer": "ipython3",
   "version": "3.5.1"
  }
 },
 "nbformat": 4,
 "nbformat_minor": 0
}
